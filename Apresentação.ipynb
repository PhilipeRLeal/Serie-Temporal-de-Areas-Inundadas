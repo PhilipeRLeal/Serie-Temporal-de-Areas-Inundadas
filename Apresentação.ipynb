{
 "cells": [
  {
   "cell_type": "markdown",
   "metadata": {},
   "source": [
    "Esse programa cria uma série temporal de inundação"
   ]
  },
  {
   "cell_type": "markdown",
   "metadata": {},
   "source": [
    "## 1. São importadas as bibliotecas\n"
   ]
  },
  {
   "cell_type": "code",
   "execution_count": 1,
   "metadata": {},
   "outputs": [],
   "source": [
    "import ee\n",
    "import datetime as dt\n",
    "import pandas as pd\n",
    "import fiona"
   ]
  },
  {
   "cell_type": "markdown",
   "metadata": {},
   "source": [
    "## Agora, se inicializa o Earth Engine"
   ]
  },
  {
   "cell_type": "code",
   "execution_count": 2,
   "metadata": {},
   "outputs": [],
   "source": [
    "ee.Initialize()"
   ]
  },
  {
   "cell_type": "markdown",
   "metadata": {},
   "source": [
    "### Definir o input dos dados"
   ]
  },
  {
   "cell_type": "code",
   "execution_count": 3,
   "metadata": {},
   "outputs": [],
   "source": [
    "Geom = r\"C:\\Users\\Edson\\Documents\\MEGAsync\\ser\\ser300\\proj_geoprocessamento\\lago.shp\"  # Poligono da área a ser analisada\n",
    "DateStart = (2003, 1, 1)  # Data inicial a série temporal\n",
    "DateEnd = (2003, 1, 30)  # Data final da série temporal\n",
    "ResTemp = 10  # Resolução temporal da série temporal (dias para fazer o mosaico)\n",
    "Escala = 500  # Escala dos cálculos\n",
    "Proj = 'EPSG:4326'\n",
    "SaveImg = False # (True ou False) Diz"
   ]
  },
  {
   "cell_type": "markdown",
   "metadata": {},
   "source": [
    "# 2. Gera variáveis secundarias e funções para o processamento"
   ]
  },
  {
   "cell_type": "code",
   "execution_count": 5,
   "metadata": {},
   "outputs": [],
   "source": [
    "Poligono = fiona.open(Geom)\n",
    "PoliProj = Poligono.crs['init']\n",
    "Coord = [list(x) for x in [x['geometry']['coordinates'] for x in Poligono][0][0]]\n",
    "Area = ee.Geometry.Polygon(Coord, PoliProj)\n",
    "region = Area.getInfo()['coordinates']  # Define o input para salvar as imagens\n",
    "\n",
    "# Gera o DataFrame para salvar os resultados da série temporal\n",
    "DateStartT = dt.datetime(DateStart[0], DateStart[1], DateStart[2])\n",
    "DateEndT = dt.datetime(DateEnd[0], DateEnd[1], DateEnd[2])\n",
    "index = pd.date_range(DateStartT, DateEndT, freq=str(ResTemp) + 'D')\n",
    "header = ['Cobertura_Válida', 'Water_cover (km²)']\n",
    "Data = pd.DataFrame( {}, index = index, columns = header)\n",
    "\n",
    "\n",
    "def getqabits(image, start, end, newname):\n",
    "    pattern = 0\n",
    "    for i in list(range(start, end+1)):\n",
    "        pattern += 2**i\n",
    "        return image.select([0], [newname]).bitwiseAnd(pattern).rightShift(start)\n"
   ]
  },
  {
   "cell_type": "markdown",
   "metadata": {},
   "source": [
    "# 3. Inicio dos cálculos"
   ]
  },
  {
   "cell_type": "code",
   "execution_count": 6,
   "metadata": {},
   "outputs": [],
   "source": [
    "for date in index:  # Controla a data inicial da composição\n",
    "    image = ee.Image('MODIS/006/MYD09GA/' + date.isoformat()[0:10].replace('-', '_')) # Imagem inicial da composição\n",
    "    NDWI = image.expression('(Verde - NIR) / (Verde + NIR)',\n",
    "                            dict(NIR=image.select('sur_refl_b02'), Verde=image.select('sur_refl_b04')))\n",
    "\n",
    "    cloud = getqabits(image.select('state_1km'), 0, 1, 'cloud_state')\n",
    "    cloud = cloud.expression(\"b(0) == 1 || b(0) == 2\")\n",
    "    pixel_valido = cloud.expression(\"b(0) == 0\")\n",
    "\n",
    "    agua = NDWI.expression(\"b(0) > 0\").mask(pixel_valido)\n",
    "\n",
    "    if ResTemp > 1:\n",
    "        mosaico = pd.date_range(dt.datetime(date.year, date.month, date.day), periods=ResTemp)[1:]\n",
    "        for composicao in mosaico:  # controla a intesecção dos dias no mosaico.\n",
    "            image2 = ee.Image('MODIS/006/MYD09GA/' + composicao.isoformat()[0:10].replace('-', '_'))  # Imagem a ser\n",
    "            # adicionada no mosaico\n",
    "\n",
    "            NDWI2 = image2.expression('(Verde - NIR) / (Verde + NIR)',\n",
    "                                      dict(NIR=image2.select('sur_refl_b02'), Verde=image2.select('sur_refl_b04')))\n",
    "\n",
    "            cloud2 = getqabits(image2.select('state_1km'), 0, 1, 'cloud_state')\n",
    "            cloud2 = cloud2.expression(\"b(0) == 1 || b(0) == 2\")\n",
    "            pixel_valido2 = cloud2.expression(\"b(0) == 0\")\n",
    "\n",
    "            agua2 = NDWI2.expression(\"b(0) > 0\").mask(pixel_valido2)\n",
    "\n",
    "            agua = ee.Image([agua.select(0), agua2.select(0)])\n",
    "\n",
    "            pixel_valido = ee.Image([pixel_valido.select(0), pixel_valido2.select(0)])\n",
    "\n",
    "            agua = agua.reduce(ee.Reducer.max())  # obtem o valor máximo da composicao, ou seja, se apenas uma vez foi\n",
    "            # inundada\n",
    "            pixel_valido = pixel_valido.reduce(ee.Reducer.max())  # obtem o máximo da composicao, ou seja, se ja ocorreu\n",
    "            # alguma vez pixel válido"
   ]
  },
  {
   "cell_type": "code",
   "execution_count": null,
   "metadata": {},
   "outputs": [],
   "source": []
  }
 ],
 "metadata": {
  "kernelspec": {
   "display_name": "Python 3",
   "language": "python",
   "name": "python3"
  },
  "language_info": {
   "codemirror_mode": {
    "name": "ipython",
    "version": 3
   },
   "file_extension": ".py",
   "mimetype": "text/x-python",
   "name": "python",
   "nbconvert_exporter": "python",
   "pygments_lexer": "ipython3",
   "version": "3.6.4"
  }
 },
 "nbformat": 4,
 "nbformat_minor": 2
}
