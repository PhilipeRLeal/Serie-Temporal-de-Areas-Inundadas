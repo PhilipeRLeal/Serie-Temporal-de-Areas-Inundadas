{
 "cells": [
  {
   "cell_type": "markdown",
   "metadata": {},
   "source": [
    "## Esse programa cria uma série temporal de inundação\n"
   ]
  },
  {
   "cell_type": "markdown",
   "metadata": {},
   "source": [
    "# 1. Importação das bibliotecas\n"
   ]
  },
  {
   "cell_type": "code",
   "execution_count": 6,
   "metadata": {},
   "outputs": [],
   "source": [
    "import ee\n",
    "import datetime as dt\n",
    "import pandas as pd\n",
    "import fiona\n",
    "import os"
   ]
  },
  {
   "cell_type": "markdown",
   "metadata": {},
   "source": [
    "## Inicializa o Earth Engine"
   ]
  },
  {
   "cell_type": "code",
   "execution_count": 2,
   "metadata": {},
   "outputs": [],
   "source": [
    "ee.Initialize()"
   ]
  },
  {
   "cell_type": "markdown",
   "metadata": {},
   "source": [
    "## Definir o input dos dados"
   ]
  },
  {
   "cell_type": "code",
   "execution_count": 3,
   "metadata": {},
   "outputs": [],
   "source": [
    "Geom = r\"C:\\Users\\Edson\\Documents\\MEGAsync\\ser\\ser300\\proj_geoprocessamento\\lago.shp\"  # Poligono da área a ser analisada\n",
    "#  Nesse exemplo, será utilizado para o Lago Grande do Curuai (Pará)\n",
    "DateStart = (2003, 1, 1)  # Data inicial a série temporal\n",
    "DateEnd = (2004, 12, 30)  # Data final da série temporal\n",
    "ResTemp = 10  # Resolução temporal da série temporal (dias para fazer o mosaico)\n",
    "Escala = 500  # Escala espacial\n",
    "Proj = 'EPSG:4326'\n",
    "SaveImg = False # (True ou False) Diz se salva as imagens no drive ou não"
   ]
  },
  {
   "cell_type": "markdown",
   "metadata": {},
   "source": [
    "# 2. Gera variáveis secundarias e funções para o processamento"
   ]
  },
  {
   "cell_type": "code",
   "execution_count": 4,
   "metadata": {},
   "outputs": [],
   "source": [
    "Poligono = fiona.open(Geom)\n",
    "PoliProj = Poligono.crs['init']\n",
    "Coord = [list(x) for x in [x['geometry']['coordinates'] for x in Poligono][0][0]]\n",
    "Area = ee.Geometry.Polygon(Coord, PoliProj)\n",
    "region = Area.getInfo()['coordinates']  # Define o input para salvar as imagens\n",
    "\n",
    "# Gera o DataFrame para salvar os resultados da série temporal\n",
    "DateStartT = dt.datetime(DateStart[0], DateStart[1], DateStart[2])\n",
    "DateEndT = dt.datetime(DateEnd[0], DateEnd[1], DateEnd[2])\n",
    "index = pd.date_range(DateStartT, DateEndT, freq=str(ResTemp) + 'D')\n",
    "header = ['Cobertura_Válida', 'Water_cover (km²)']\n",
    "Data = pd.DataFrame( {}, index = index, columns = header)\n",
    "\n",
    "\n",
    "def getqabits(image, start, end, newname):\n",
    "    pattern = 0\n",
    "    for i in list(range(start, end+1)):\n",
    "        pattern += 2**i\n",
    "        return image.select([0], [newname]).bitwiseAnd(pattern).rightShift(start)\n"
   ]
  },
  {
   "cell_type": "markdown",
   "metadata": {},
   "source": [
    "# 3. Inicio dos cálculos"
   ]
  },
  {
   "cell_type": "code",
   "execution_count": 5,
   "metadata": {},
   "outputs": [],
   "source": [
    "for date in index:  # Controla a data inicial da composição\n",
    "    image = ee.Image('MODIS/006/MYD09GA/' + date.isoformat()[0:10].replace('-', '_')) # Imagem inicial da composição\n",
    "    NDWI = image.expression('(Verde - NIR) / (Verde + NIR)',\n",
    "                            dict(NIR=image.select('sur_refl_b02'), Verde=image.select('sur_refl_b04')))\n",
    "\n",
    "    cloud = getqabits(image.select('state_1km'), 0, 1, 'cloud_state')\n",
    "    cloud = cloud.expression(\"b(0) == 1 || b(0) == 2\")\n",
    "    pixel_valido = cloud.expression(\"b(0) == 0\")\n",
    "\n",
    "    agua = NDWI.expression(\"b(0) > 0\").mask(pixel_valido)\n",
    "    \n",
    "    # Condição se a resolução temporal é maior que um dia, fazer o mosaico\n",
    "    if ResTemp > 1:\n",
    "        mosaico = pd.date_range(dt.datetime(date.year, date.month, date.day), periods=ResTemp)[1:]\n",
    "        for composicao in mosaico:  # controla a intesecção dos dias no mosaico.\n",
    "            image2 = ee.Image('MODIS/006/MYD09GA/' + composicao.isoformat()[0:10].replace('-', '_'))  # Imagem a ser\n",
    "            # adicionada no mosaico\n",
    "\n",
    "            NDWI2 = image2.expression('(Verde - NIR) / (Verde + NIR)',\n",
    "                                      dict(NIR=image2.select('sur_refl_b02'), Verde=image2.select('sur_refl_b04')))\n",
    "\n",
    "            cloud2 = getqabits(image2.select('state_1km'), 0, 1, 'cloud_state')\n",
    "            cloud2 = cloud2.expression(\"b(0) == 1 || b(0) == 2\")\n",
    "            pixel_valido2 = cloud2.expression(\"b(0) == 0\")\n",
    "\n",
    "            agua2 = NDWI2.expression(\"b(0) > 0\").mask(pixel_valido2)\n",
    "\n",
    "            agua = ee.Image([agua.select(0), agua2.select(0)])\n",
    "\n",
    "            pixel_valido = ee.Image([pixel_valido.select(0), pixel_valido2.select(0)])\n",
    "\n",
    "            agua = agua.reduce(ee.Reducer.max())  # obtem o valor máximo da composicao, ou seja, se apenas uma vez foi\n",
    "            # inundada\n",
    "            pixel_valido = pixel_valido.reduce(ee.Reducer.max())  # obtem o máximo da composicao, ou seja, se ja ocorreu\n",
    "            # alguma vez pixel válido\n",
    "    \n",
    "    #  Condição para reprojetar a imagem\n",
    "    if Proj != False:\n",
    "        agua = agua.reproject(Proj, None, Escala)\n",
    "        pixel_valido = pixel_valido.reproject(Proj, None, Escala)\n",
    "\n",
    "    cobertura_agua = agua.reduceRegion(reducer='sum', geometry = Area, scale = Escala) #Soma dos pixels da imagem inundada\n",
    "    cobertura_valida = pixel_valido.reduceRegion(reducer='mean', geometry = Area, scale = Escala) #Média da cobertura válida\n",
    "\n",
    "    Data.loc[date]['Cobertura_Válida'] = cobertura_valida.getInfo()['max'] * 100 #  cálculo da percentagem da\n",
    "    #área de pixels válidos\n",
    "    Data.loc[date]['Water_cover (km²)'] = (cobertura_agua.getInfo()['max']*(Escala**2)) / (1000**2) #  cálculo\n",
    "    # da área coberta por água no mosaico\n",
    "\n",
    "    \n",
    "    #Condição para salvar a imagem\n",
    "    if SaveImg == True:\n",
    "        task_config = dict(description='Agua', region=region)\n",
    "        task = ee.batch.Export.image(agua, 'Agua' + date.strftime(\"%Y-%m-%d\"), task_config)\n",
    "        task.start()\n",
    "\n",
    "        task_config = {\n",
    "            'description': 'Pixel_validos',\n",
    "            'region': region\n",
    "        }\n",
    "        task = ee.batch.Export.image(pixel_valido, 'P_valido' + date.strftime(\"%Y-%m-%d\"), task_config)\n",
    "        task.start()\n"
   ]
  },
  {
   "cell_type": "markdown",
   "metadata": {},
   "source": [
    "# Salvar a série temporal em um csv"
   ]
  },
  {
   "cell_type": "code",
   "execution_count": 8,
   "metadata": {},
   "outputs": [
    {
     "data": {
      "text/plain": [
       "['.git',\n",
       " '.gitattributes',\n",
       " '.ipynb_checkpoints',\n",
       " 'Apresentação.ipynb',\n",
       " 'Serie_inundacao.py']"
      ]
     },
     "execution_count": 8,
     "metadata": {},
     "output_type": "execute_result"
    }
   ],
   "source": [
    "os.listdir()"
   ]
  },
  {
   "cell_type": "code",
   "execution_count": 9,
   "metadata": {},
   "outputs": [],
   "source": [
    "Data.to_csv('Agua' + DateStartT.strftime(\"%Y-%m-%d\") + 'to' + DateEndT.strftime(\"%Y-%m-%d\") + '.csv')"
   ]
  },
  {
   "cell_type": "code",
   "execution_count": 10,
   "metadata": {},
   "outputs": [
    {
     "data": {
      "text/plain": [
       "['.git',\n",
       " '.gitattributes',\n",
       " '.ipynb_checkpoints',\n",
       " 'Agua2003-01-01to2004-12-30.csv',\n",
       " 'Apresentação.ipynb',\n",
       " 'Serie_inundacao.py']"
      ]
     },
     "execution_count": 10,
     "metadata": {},
     "output_type": "execute_result"
    }
   ],
   "source": [
    "os.listdir()"
   ]
  },
  {
   "cell_type": "markdown",
   "metadata": {},
   "source": [
    "# 4. Gerar gráficos"
   ]
  },
  {
   "cell_type": "markdown",
   "metadata": {},
   "source": [
    "### Primeiro, um exemplo desconsiderando a cobertura válida"
   ]
  },
  {
   "cell_type": "code",
   "execution_count": 68,
   "metadata": {},
   "outputs": [
    {
     "data": {
      "text/plain": [
       "Text(0,0.5,'Área Inundada (km )')"
      ]
     },
     "execution_count": 68,
     "metadata": {},
     "output_type": "execute_result"
    },
    {
     "data": {
      "image/png": "[encoded data removed]",
      "text/plain": [
       "<matplotlib.figure.Figure at 0x120c0e72278>"
      ]
     },
     "metadata": {},
     "output_type": "display_data"
    }
   ],
   "source": [
    "import matplotlib.pyplot as plt\n",
    "Data['Water_cover (km²)'].plot()\n",
    "plt.ylabel('Área Inundada (km )')"
   ]
  },
  {
   "cell_type": "code",
   "execution_count": 23,
   "metadata": {},
   "outputs": [
    {
     "data": {
      "text/plain": [
       "<matplotlib.axes._subplots.AxesSubplot at 0x120ba8d8400>"
      ]
     },
     "execution_count": 23,
     "metadata": {},
     "output_type": "execute_result"
    },
    {
     "data": {
      "image/png": "[encoded data removed]",
      "text/plain": [
       "<matplotlib.figure.Figure at 0x120ba8f7128>"
      ]
     },
     "metadata": {},
     "output_type": "display_data"
    }
   ],
   "source": [
    "Data['Cobertura_Válida'].plot(kind='box')"
   ]
  },
  {
   "cell_type": "code",
   "execution_count": 79,
   "metadata": {},
   "outputs": [
    {
     "data": {
      "text/plain": [
       "<matplotlib.axes._subplots.AxesSubplot at 0x120c1517470>"
      ]
     },
     "execution_count": 79,
     "metadata": {},
     "output_type": "execute_result"
    },
    {
     "data": {
      "image/png": "[encoded data removed]",
      "text/plain": [
       "<matplotlib.figure.Figure at 0x120c152d4a8>"
      ]
     },
     "metadata": {},
     "output_type": "display_data"
    }
   ],
   "source": [
    "DataFil = Data[Data['Cobertura_Válida'] > 95] #  Filtra para periodos acima de 95% de pixels válidos\n",
    "ax1 = Data['Water_cover (km²)'].plot(color = 'red')\n",
    "plt.ylabel('Área Inundada (km²)')\n",
    "DataFil['Water_cover (km²)'].plot(ax = ax1, color = 'green')"
   ]
  },
  {
   "cell_type": "code",
   "execution_count": null,
   "metadata": {},
   "outputs": [],
   "source": []
  },
  {
   "cell_type": "code",
   "execution_count": null,
   "metadata": {},
   "outputs": [],
   "source": []
  },
  {
   "cell_type": "code",
   "execution_count": null,
   "metadata": {},
   "outputs": [],
   "source": []
  }
 ],
 "metadata": {
  "kernelspec": {
   "display_name": "Python 3",
   "language": "python",
   "name": "python3"
  },
  "language_info": {
   "codemirror_mode": {
    "name": "ipython",
    "version": 3
   },
   "file_extension": ".py",
   "mimetype": "text/x-python",
   "name": "python",
   "nbconvert_exporter": "python",
   "pygments_lexer": "ipython3",
   "version": "3.6.4"
  }
 },
 "nbformat": 4,
 "nbformat_minor": 2
}
